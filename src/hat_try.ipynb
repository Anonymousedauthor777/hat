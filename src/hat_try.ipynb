{
 "cells": [
  {
   "cell_type": "code",
   "execution_count": 2,
   "metadata": {},
   "outputs": [],
   "source": [
    "import numpy as np\n",
    "import scipy.linalg as la\n",
    "import math\n",
    "import scipy.stats as sps\n",
    "from scipy.stats import uniform_direction\n",
    "from math import atan, log, pi\n",
    "from datetime import datetime as dt\n",
    "from sklearn.metrics import accuracy_score\n",
    "import matplotlib.pyplot as plt\n",
    "from sklearn.datasets import load_svmlight_file\n",
    "from sklearn.model_selection import train_test_split\n",
    "from sklearn.metrics import r2_score, accuracy_score\n",
    "from scipy.optimize import minimize"
   ]
  },
  {
   "cell_type": "code",
   "execution_count": 19,
   "metadata": {},
   "outputs": [
    {
     "name": "stdout",
     "output_type": "stream",
     "text": [
      "(8124, 112) (8124,)\n"
     ]
    }
   ],
   "source": [
    "dataset = \"mushrooms.txt\"\n",
    "data = load_svmlight_file(dataset)\n",
    "X, y = data[0].toarray(), data[1]\n",
    "n, m = X.shape\n",
    "y = y * 2 - 3\n",
    "print(X.shape, y.shape)\n",
    "X_train, X_test, y_train, y_test = train_test_split(X, y, test_size=0.2)"
   ]
  },
  {
   "cell_type": "code",
   "execution_count": 4,
   "metadata": {},
   "outputs": [],
   "source": [
    "def grad_function_log(w, X_train, y_train, lambda_):\n",
    "    X = X_train\n",
    "    Y = y_train\n",
    "    sum = np.zeros(w.shape)\n",
    "    n = X.shape[0]\n",
    "\n",
    "    for i in range(len(Y)):\n",
    "        sum = sum  - 1/n * Y[i] * X[i] /(1 + np.exp(-Y[i] * w @ X[i])) * np.exp(-Y[i] * w @ X[i])\n",
    "    return sum + lambda_ * w\n",
    "\n",
    "def hessian_function_log(w, X_train, y_train, lambda_):\n",
    "    X = X_train\n",
    "    Y = y_train\n",
    "    n = X.shape[0]\n",
    "    sum = np.zeros((X.shape[1], X.shape[1]))\n",
    "\n",
    "    for i in range(1, len(Y)):\n",
    "        sum = sum + 1/n * np.outer(X[i], X[i]) * np.exp(Y[i] * w @ X[i])/((1+np.exp(Y[i] * w @ X[i])) ** 2)\n",
    "    return sum + lambda_* np.eye(X.shape[1])\n",
    "\n",
    "def learning_rate_log(x, L):\n",
    "    return 1 / L\n",
    "\n",
    "def predict(w, X):\n",
    "        return np.sign(X @ w)"
   ]
  },
  {
   "cell_type": "code",
   "execution_count": 5,
   "metadata": {},
   "outputs": [],
   "source": [
    "def get_r_k(xi, hess_diffs_norm, grad_norm, L_hess, L_rho, eta, sigma):\n",
    "    b = hess_diffs_norm / np.sqrt(grad_norm) + L_rho * hess_diffs_norm / (2 * (2 * sigma - L_rho))\n",
    "    a = L_hess / 3 + L_rho * (2 * eta + L_hess / 3) / (2 * sigma - L_rho)\n",
    "    return xi / (b + np.sqrt(a * xi))\n",
    "\n",
    "def get_A_k (r_k, L_hess, L_rho, hess_diffs_norm, grad_norm, eta, sigma):\n",
    "    tilde_sigma = 2 * sigma - L_rho\n",
    "    A_k = hess_diffs_norm / (2 * tilde_sigma) + r_k * np.sqrt(grad_norm) * (2 * eta + L_hess / 3) / tilde_sigma\n",
    "    return A_k"
   ]
  },
  {
   "cell_type": "code",
   "execution_count": 6,
   "metadata": {},
   "outputs": [],
   "source": [
    "def objective(d, grad_f, H_k, A_k):\n",
    "    grad_term = np.dot(grad_f, d)\n",
    "    hess_term = 0.5 * np.dot(d.T, np.dot(H_k, d))\n",
    "    # Regularization term: A_k * V(x_k, x_k + d) = A_k * 1/2 * ||d||^2\n",
    "    reg_term = 0.5 * A_k * np.linalg.norm(d)**2\n",
    "    return grad_term + hess_term + reg_term"
   ]
  },
  {
   "cell_type": "code",
   "execution_count": 7,
   "metadata": {},
   "outputs": [],
   "source": [
    "def constraint(d, grad_f, r_k):\n",
    "    return r_k**2 * np.linalg.norm(grad_f) - np.linalg.norm(d)**2"
   ]
  },
  {
   "cell_type": "code",
   "execution_count": 8,
   "metadata": {},
   "outputs": [],
   "source": [
    "def empirical_fisher_approximation(X_train, y_train, w):\n",
    "        N = len(y_train)\n",
    "        fisher_matrix = np.zeros((len(w), len(w))) \n",
    "\n",
    "        for i in range(N):\n",
    "            xi = X_train[i]\n",
    "            yi = y_train[i]\n",
    "            f_xi = np.sign(np.dot(xi, w))  \n",
    "            grad_loss = (f_xi - yi) * xi \n",
    "            fisher_matrix += np.outer(grad_loss, grad_loss)\n",
    "        \n",
    "        return fisher_matrix / N"
   ]
  },
  {
   "cell_type": "markdown",
   "metadata": {},
   "source": [
    "training, mushrooms"
   ]
  },
  {
   "cell_type": "code",
   "execution_count": 34,
   "metadata": {},
   "outputs": [
    {
     "name": "stdout",
     "output_type": "stream",
     "text": [
      "L for the hess 626758.4521372562\n"
     ]
    }
   ],
   "source": [
    "def compute_lipsch(X_train, y_train):\n",
    "    n, m = X_train.shape\n",
    "    hessian = np.zeros((m, m))\n",
    "\n",
    "    for a, b in zip(X_train[:], y_train):\n",
    "        hessian = hessian + 1/n  * np.outer(a, a)\n",
    "\n",
    "    hessian = hessian / 4\n",
    "    L = np.linalg.norm(hessian, 2)\n",
    "    print('L for the hess', L)\n",
    "    lambda_ = L / 100\n",
    "    return L, lambda_\n",
    "\n",
    "L, lambda_ = compute_lipsch(X_train, y_train)"
   ]
  },
  {
   "cell_type": "code",
   "execution_count": 12,
   "metadata": {},
   "outputs": [
    {
     "name": "stdout",
     "output_type": "stream",
     "text": [
      "0.02115404949685723\n",
      "0.062282074702698524\n",
      "0.1017517388545027\n",
      "0.14006184133981378\n",
      "0.1773366687897734\n",
      "0.21356013351330694\n",
      "0.24868131068764096\n",
      "0.2828310382234962\n",
      "0.31599869774228256\n",
      "0.3482214305063966\n",
      "0.3795197499754849\n",
      "0.40995844765480816\n",
      "0.439603248145791\n",
      "0.46848953615059447\n",
      "0.4966085461747668\n",
      "0.5240154330546882\n",
      "0.5507186157773287\n",
      "0.5769104223917342\n",
      "0.6025079140960138\n",
      "0.6274725543054025\n",
      "0.6518642100716251\n",
      "0.6756245151797635\n",
      "0.6989155080993922\n",
      "0.7216798282183486\n",
      "0.7439783634067662\n",
      "0.7658161465319171\n",
      "0.7871417594314922\n",
      "0.8080372040023989\n",
      "0.8285577136040285\n",
      "0.8485976787303754\n",
      "0.8682804364799199\n",
      "0.887625241160738\n",
      "0.9065771903229213\n",
      "0.925177568996357\n",
      "0.9434674327627958\n",
      "0.9614901646975533\n",
      "0.9791715474399871\n",
      "0.9965413024056704\n",
      "1.0136102390789092\n",
      "1.0303270747161857\n",
      "1.0468238171364153\n",
      "1.0630759426743503\n",
      "1.0791216562811337\n",
      "1.0950229981414958\n",
      "1.1106134216061523\n",
      "1.1259044594170746\n",
      "1.1410153869986424\n",
      "1.155843243264805\n",
      "1.1705541258558\n",
      "1.185018770901116\n"
     ]
    }
   ],
   "source": [
    "L_hess = L\n",
    "L_rho = 2.\n",
    "eta = 1.5\n",
    "sigma = 1.666666666666665#(L_rho / 2 + 2 * L_rho / 3) / 2 \n",
    "xi = 1 / 2 #1 / 2\n",
    "accuracy_arr = []\n",
    "hess_diffs_norms = []\n",
    "grad_norms = []\n",
    "x_k = np.zeros(X_train.shape[1])\n",
    "accuracy = []\n",
    "\n",
    "num_iters = 50\n",
    "for iter_idx in range(num_iters):\n",
    "    grad_f = grad_function_log(x_k, X_train, y_train, lambda_)\n",
    "    grad_f_norm = np.linalg.norm(grad_f, ord=2)\n",
    "    grad_norms.append(grad_f_norm)\n",
    "\n",
    "    H_true = hessian_function_log(x_k, X_train, y_train, lambda_)\n",
    "    H_k = empirical_fisher_approximation(X_train, y_train, x_k)\n",
    "    hess_diff_norm = np.linalg.norm(H_true - H_k, ord=2)\n",
    "    hess_diffs_norms.append(hess_diff_norm)\n",
    "\n",
    "    r_k = get_r_k(xi, hess_diff_norm, grad_f_norm, L_hess, L_rho, eta, sigma)\n",
    "    A_k = get_A_k(r_k, L_hess, L_rho, hess_diff_norm, grad_f_norm, eta, sigma)\n",
    "\n",
    "    d0 = np.zeros_like(grad_f)\n",
    "\n",
    "    cons = {'type': 'ineq', 'fun': constraint, 'args': (grad_f, r_k)}\n",
    "\n",
    "    result = minimize(objective, d0, args=(grad_f, H_k, A_k), constraints=cons, method='SLSQP')\n",
    "\n",
    "    d_k = result.x\n",
    "\n",
    "    x_k += d_k\n",
    "    accuracy.append(accuracy_score(predict(x_k, X_test), y_test))\n",
    "    print(np.linalg.norm(x_k))"
   ]
  },
  {
   "cell_type": "code",
   "execution_count": 13,
   "metadata": {},
   "outputs": [
    {
     "data": {
      "image/png": "[encoded data removed]",
      "text/plain": [
       "<Figure size 640x480 with 1 Axes>"
      ]
     },
     "metadata": {},
     "output_type": "display_data"
    }
   ],
   "source": [
    "plt.plot(grad_norms)\n",
    "plt.show()"
   ]
  }
 ],
 "metadata": {
  "kernelspec": {
   "display_name": "secondord",
   "language": "python",
   "name": "python3"
  },
  "language_info": {
   "codemirror_mode": {
    "name": "ipython",
    "version": 3
   },
   "file_extension": ".py",
   "mimetype": "text/x-python",
   "name": "python",
   "nbconvert_exporter": "python",
   "pygments_lexer": "ipython3",
   "version": "3.10.14"
  }
 },
 "nbformat": 4,
 "nbformat_minor": 2
}
